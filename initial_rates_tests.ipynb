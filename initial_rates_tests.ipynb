{
 "cells": [
  {
   "cell_type": "markdown",
   "metadata": {},
   "source": [
    "## Determining the rate law of chemical reactions\n",
    "## Tests"
   ]
  },
  {
   "cell_type": "code",
   "execution_count": 1,
   "metadata": {},
   "outputs": [],
   "source": [
    "from initial_rates import *\n",
    "from matplotlib import pyplot as plt"
   ]
  },
  {
   "cell_type": "markdown",
   "metadata": {},
   "source": [
    " #### Example 1:\n",
    " Consider the concentration of $[\\mathrm{N_{2}O_{5}}]$ as a function of time for the following reaction at 318 K.\n",
    " <center>$2\\space\\mathrm{N_{2}O_{5}(g)} \\longrightarrow 2\\space\\mathrm{NO_{2}(g)} + \\frac{1}{2}\\space\\mathrm{O_{2}(g)}$</center>\n",
    "<center>\n",
    "    $\\begin{array} {r|r}\n",
    "    t/\\textrm{min} & [\\mathrm{N_{2}O_{5}}]/10^{-2}M\n",
    "    \\\\\\hline\n",
    "    0 & 1.24 \\\\\n",
    "    10 & 0.92 \\\\\n",
    "    20 & 0.68 \\\\\n",
    "    30 & 0.50 \\\\\n",
    "    40 & 0.37 \\\\\n",
    "    50 & 0.28 \\\\\n",
    "    60 & 0.20 \\\\\n",
    "    70 & 0.15 \\\\\n",
    "    80 & 0.11 \\\\\n",
    "    90 & 0.08 \\\\\n",
    "    100 & 0.06 \\\\\n",
    "    \\end{array}\n",
    "$</center>"
   ]
  },
  {
   "cell_type": "code",
   "execution_count": 2,
   "metadata": {},
   "outputs": [
    {
     "name": "stdout",
     "output_type": "stream",
     "text": [
      "There are not enough measurements within the percent of the reaction specified and the best approximation available is the slope of the chord obtained from the first concentration measurement.\n",
      "\n",
      "\n"
     ]
    },
    {
     "data": {
      "image/png": "[encoded data removed]",
      "text/plain": [
       "<Figure size 432x288 with 1 Axes>"
      ]
     },
     "metadata": {
      "needs_background": "light"
     },
     "output_type": "display_data"
    },
    {
     "name": "stdout",
     "output_type": "stream",
     "text": [
      "initial_rate =  2.6666666666666664e-06 M/s\n"
     ]
    }
   ],
   "source": [
    "# Test compInitialRate\n",
    "stoichiometric_coefficient = 2\n",
    "\n",
    "# Create array of time measurements in units of seconds.\n",
    "time_points = numpy.multiply(60,[*range(0,110,10)])\n",
    "\n",
    "# Create array of concentrations in units of moles per liter.\n",
    "concentrations = numpy.multiply(1e-2, [1.24, 0.92, 0.68, 0.50, 0.37, 0.28, 0.20, 0.15, 0.11, 0.08, 0.06])\n",
    "\n",
    "# Calculate initial rate.\n",
    "initial_rate = compInitialRate(stoichiometric_coefficient, time_points, concentrations, reaction_percentage = 10.0)\n",
    "\n",
    "# Generate initial rate curve.\n",
    "species_is_reactant = True\n",
    "initial_rate_curve = concentrations[0] + numpy.multiply(\n",
    "    (-1 if species_is_reactant else 1) * stoichiometric_coefficient * initial_rate,\n",
    "    time_points)\n",
    "\n",
    "# Plot kinetic data and the initial rate curve.\n",
    "plt.title(\"Initial rate of reaction from kinetic data\") \n",
    "plt.xlabel(\"t/s\") \n",
    "plt.ylabel(\"[N2O5]/M\") \n",
    "plt.plot(time_points, concentrations, \"-b\", label = \"[N2O5] at t\")\n",
    "plt.plot(time_points, initial_rate_curve,  \"-r\", label = \"Initial rate\")\n",
    "plt.legend(loc = \"upper right\")\n",
    "plt.ylim(0, concentrations[(0 if species_is_reactant else -1)])\n",
    "plt.xlim(0, time_points[-1])\n",
    "plt.show()\n",
    "print(\"initial_rate = \", initial_rate, \"M/s\")"
   ]
  },
  {
   "cell_type": "markdown",
   "metadata": {},
   "source": [
    "#### Example 2:\n",
    "Consider the following initial rate data for the reaction.\n",
    "<center>$2\\space\\mathrm{NO_{2}(g)}+ \\mathrm{F_{2}(g)} \\longrightarrow 2\\space\\mathrm{NO_{2}F(g)}$</center><br/>\n",
    "<center>\n",
    "    $\\begin{array} {r|r|r|r}\n",
    "    \\textrm{Run} & [\\mathrm{NO_{2}}]_{0}/M & [\\mathrm{F_{2}}]_{0}/M & v(0)/M\\cdot s^{-1}\n",
    "    \\\\\\hline\n",
    "    1 & 1.15 & 1.15 & 6.12\\space\\mathrm{x}\\space10^{-4} \\\\\n",
    "    2 & 1.72 & 1.15 & 1.36\\space\\mathrm{x}\\space10^{-3} \\\\\n",
    "    3 & 1.15 & 2.30 & 1.22\\space\\mathrm{x}\\space10^{-3} \\\\\n",
    "    \\end{array}\n",
    "$</center>"
   ]
  },
  {
   "cell_type": "code",
   "execution_count": 3,
   "metadata": {},
   "outputs": [],
   "source": [
    "# Test compOrder\n",
    "initial_concs = [[1.15, 1.15],\n",
    "                 [1.72, 1.15],\n",
    "                 [1.15, 2.3]]\n",
    "initial_rates = [6.12e-4, 1.36e-3, 1.22e-3]\n",
    "m_NO2 = compOrder(initial_rates[0], initial_rates[1], initial_concs[0][0], initial_concs[1][0])\n",
    "m_F2 = compOrder(initial_rates[0], initial_rates[2], initial_concs[0][1], initial_concs[2][1])\n",
    "\n",
    "# Check that order of NO2 is 2\n",
    "assert abs(m_NO2-2.0) < 0.05\n",
    "# Check that order of F2 is 1\n",
    "assert abs(m_F2-1.0) < 0.05"
   ]
  },
  {
   "cell_type": "code",
   "execution_count": 4,
   "metadata": {},
   "outputs": [],
   "source": [
    "# Test compRateConstant\n",
    "orders = [m_NO2, m_F2]\n",
    "k = compRateConstant(initial_concs, initial_rates, orders)\n",
    "\n",
    "# Check that k is 4.04e-4\n",
    "assert (abs(k-4.04e-4)) < 1e-6"
   ]
  },
  {
   "cell_type": "code",
   "execution_count": 5,
   "metadata": {},
   "outputs": [],
   "source": [
    "# Test compLeastSquaresRateLaw\n",
    "[k, m_NO2, m_F2] = compLeastSquaresRateLaw(initial_concs, initial_rates)\n",
    "\n",
    "# Check that order of NO2 is 2\n",
    "assert abs(m_NO2-2.0) < 0.05\n",
    "# Check that order of F2 is 1\n",
    "assert abs(m_F2-1.0) < 0.05\n",
    "# Check that k is 4.04e-4\n",
    "assert (abs(k-4.04e-4)) < 1e-6"
   ]
  }
 ],
 "metadata": {
  "kernelspec": {
   "display_name": "Python 3",
   "language": "python",
   "name": "python3"
  },
  "language_info": {
   "codemirror_mode": {
    "name": "ipython",
    "version": 3
   },
   "file_extension": ".py",
   "mimetype": "text/x-python",
   "name": "python",
   "nbconvert_exporter": "python",
   "pygments_lexer": "ipython3",
   "version": "3.8.5"
  }
 },
 "nbformat": 4,
 "nbformat_minor": 4
}
