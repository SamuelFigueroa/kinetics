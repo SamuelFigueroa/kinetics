{
 "cells": [
  {
   "cell_type": "markdown",
   "metadata": {},
   "source": [
    "# Determining concentrations by absorption spectroscopy\n",
    "#### I. Beer's law\n",
    "\n",
    "The relation between the concentration of an absorbing analyte and the measured absorbance $A$ or transmittance $T$ of solutions contained in transparent cells that have a path length of $b$ centimeters is described by Beer's law:\n",
    "\n",
    "<center>$A = -\\log{T} = \\log{\\frac{P_{0}}{P}} = \\epsilon b c$</center>\n",
    "<br/>\n",
    "\n",
    "where $P_{0}$ is the radiant power in watts incident on the sample and $P$ is the radiant power transmitted by the sample, $\\epsilon$ is the molar absorptivity, and $c$ is the concentration of the absorbing substance.\n",
    "\n",
    "A mixture containing more than one absorbing substance, i.e. a multicomponent absorbing system, will exhibit a total absorbance,\n",
    "\n",
    "<center>\n",
    "    $\\begin{align} A_{total} &= A_{1} + A_{2} + \\dots + A_{n} \\\\\n",
    "    &= \\epsilon_{1}bc_1 + \\epsilon_{2}bc_2 + \\dots + \\epsilon_{n}bc_n \\end{align}$\n",
    "</center>\n",
    "\n",
    "#### II. Key assumptions and observations\n",
    "1. Beer's law only applies to mixtures of non-interacting species.\n",
    "2. Significant deviations from the direct (linear) proportionality expressed by the law are often observed under the following conditions:\n",
    "    * At high analyte concentrations, usually above $0.01 M$, solute-solvent and solute-solute interactions, or hydrogen bonding can affect the analyte absorptivity. \n",
    "    * At low analyte concentrations but high concentrations of another species, particularly electrolytes.\n",
    "    * When changes in the analyte concentration significantly alters the refractive index $n$ of the solution.\n",
    "    <center>$A_{observed} = \\frac{n}{(n^2+2)^2}\\epsilon bc$</center>\n",
    "    <br/>\n",
    "    * When the analyte associates, dissociates or reacts with the solvent (e.g., an unbuffered solution of a species affected by an acid-base equilibrium) resulting in a multicomponent absorbing system.\n",
    "    <center>$A_{observed} = A_{1} + A_{2} + \\dots + A_{n}$</center>\n",
    "    <br/>\n",
    "    * When polychromatic source radiation is employed to make absorbance measurements and the molar absorptivity of the analyte is not constant across the wavelengths considered.\n",
    "    <br/>\n",
    "    <center>$A_{observed} = \n",
    "    \\log{\n",
    "    \\frac{P_{0\\lambda_{1}} + P_{0\\lambda_{2}} + \\dots + P_{0\\lambda_{n}}}\n",
    "    {P_{\\lambda_{1}} + P_{\\lambda_{2}} + \\dots + P_{\\lambda_{n}}}} \n",
    "    = \n",
    "    \\log{\n",
    "    \\frac{P_{0\\lambda_{1}} + P_{0\\lambda_{2}} + \\dots + P_{0\\lambda_{n}}}\n",
    "    {P_{0\\lambda_{1}}10^{-\\epsilon_{\\lambda_{1}}bc} + P_{0\\lambda_{2}}10^{-\\epsilon_{\\lambda_{2}}bc} + \\dots + P_{0\\lambda_{n}}10^{-\\epsilon_{\\lambda_{n}}bc}}}\n",
    "    $</center>\n",
    "    <br/>\n",
    "    * When stray radiation is present inside the instrument used to measure absorbance.\n",
    "    <center>$A_{observed} = \\log{\\frac{P_{0} + P_{stray}}{P + P_{stray}}}$</center>\n",
    "    <br/>\n",
    "    * When the cells holding the analyte and blank solutions are not of equal path length and equivalent optical characteristics.\n",
    "    <center>$A_{observed} = \\epsilon b c + k$</center>\n",
    "    <br/>\n",
    "3. For typical organic molecules, strong absorption bands have molar absorptivities ranging from $10^4$ to $10^5M^{-1}cm^{-1}$.\n",
    "\n",
    "## Experimental methods\n",
    "#### I. Determining concentrations of absorbing components in a mixture\n",
    "In principle, it is possible to determine the concentrations $c_{1}, c_{2}, \\dots, c_{n}$ of the individual components of a mixture even if their spectra overlap completely."
   ]
  },
  {
   "cell_type": "markdown",
   "metadata": {},
   "source": [
    "## Computation\n",
    "#### Using principal component analysis on Fourier-transformed spectra\n",
    "0. Import required modules/libraries"
   ]
  },
  {
   "cell_type": "code",
   "execution_count": 9,
   "metadata": {},
   "outputs": [],
   "source": [
    "import numpy\n",
    "import math"
   ]
  },
  {
   "cell_type": "markdown",
   "metadata": {},
   "source": [
    "1. Compute concentrations of standard mixtures. The number of standard mixtures must be equal to or greater than the number of absorbing components. The concentration of each component must be independently varied within the set of standard mixtures to avoid redundancy. To achieve better accuracy, the concentration range of each component across all standard mixtures should closely bracket the range expected in the unknowns. It is also important to maximize the number of components contained in each of the standard mixtures to compensate for the effects of molecular interactions on the measured absorbance."
   ]
  },
  {
   "cell_type": "markdown",
   "metadata": {},
   "source": [
    "2. Compute the Fourier transform of the absorption spectra divided by the path length (i.e. the optical densities) measured from each of the standard mixtures."
   ]
  },
  {
   "cell_type": "code",
   "execution_count": 1,
   "metadata": {},
   "outputs": [],
   "source": [
    "def compFTOfSpectrum(absorbances, path_length = 1.0):\n",
    "    '''Computes the Fourier transform of the absorbances measured divided the path length \n",
    "\n",
    "    Parameters\n",
    "    ----------\n",
    "    absorbances : array of floats\n",
    "        Array of absorbances in absorbance units from the spectrum measured. \n",
    "    path_length : float\n",
    "        Path length of cuvette holding the sample in centimeters.\n",
    "\n",
    "    Returns\n",
    "    -------\n",
    "    array of floats\n",
    "       Fourier transform of the optical densities.\n",
    "    '''\n",
    "    fourier_transform = numpy.fft.fft(numpy.divide(absorbances, path_length))\n",
    "    return fourier_transform"
   ]
  },
  {
   "cell_type": "markdown",
   "metadata": {},
   "source": [
    "3. Create a matrix $F$ with $t$ rows and $m$ columns by arranging a subset of consecutive terms $t$ of the computed Fourier transform in a column for each standard mixture $m$. Compute the variance-covariance matrix $A$ ($A = FF^T$) and diagonalize $A$ to obtain the set of $t$ eigenvalues and eigenvectors. Arrange the eigenvectors in order of decreasing eigenvalues."
   ]
  },
  {
   "cell_type": "code",
   "execution_count": 2,
   "metadata": {},
   "outputs": [],
   "source": [
    "def compSortedEigenSet(f):\n",
    "    '''Computes the set of eigenvalues and eigenvectors of the variance-covariance matrix computed from the input matrix \n",
    "    and sorts them in order of decreasing eigenvalue magnitude. \n",
    "\n",
    "    Parameters\n",
    "    ----------\n",
    "    f : 2D-array of floats\n",
    "        The input matrix. For example, the Fourier terms of each standard mixture structured as\n",
    "        // mix_1,   mix_2,  ...,  mix_m \n",
    "        [[ f_1_1,   f_1_2,  ...,  f_1_m], // term_1\n",
    "         [ f_2_1,   f_2_2,  ...,  f_2_m], // term_2\n",
    "                            ...,\n",
    "         [ f_t_1,   f_t_2,  ...,  f_t_m], // term_t\n",
    "\n",
    "    Returns\n",
    "    -------\n",
    "    tuple of arrays\n",
    "       The first element of the tuple is the list of eigenvalues. \n",
    "       The second element of the tuple is the 2D numpy array of the corresponding eigenvectors.\n",
    "    '''\n",
    "    f = numpy.array(f)\n",
    "    a = numpy.matmul(f, f.transpose())\n",
    "    w, v = numpy.linalg.eigh(a)\n",
    "    eigvals, eigvecs = zip(*sorted(zip(w, v.T), reverse=True))\n",
    "    return list(eigvals), numpy.array(list(eigvecs)).T"
   ]
  },
  {
   "cell_type": "markdown",
   "metadata": {},
   "source": [
    "4. Compute the value of the indicator function $ind(i)$ at each number $i$ of eigenvectors used. Find the minimum value of this function. The number of eigenvectors to select from the sorted set will be one less than the number of eigenvectors used at this minimum value. Arrange this subset of eigenvectors in a matrix $V$."
   ]
  },
  {
   "cell_type": "code",
   "execution_count": null,
   "metadata": {},
   "outputs": [],
   "source": [
    "def compNumEigenVectors(eigenvalues):\n",
    "    '''Computes the number of eigenvectors to select from the sorted set of eigenvalues by finding \n",
    "    the minimum value of the indicator function\n",
    "\n",
    "    Parameters\n",
    "    ----------\n",
    "    eigenvalues : array of floats\n",
    "        Array of eigenvalues sorted in order of decreasing magnitude. \n",
    "    Returns\n",
    "    -------\n",
    "    int\n",
    "       Number of eigenvectors to select from the sorted set.\n",
    "    '''\n",
    "    num_eigenvectors = numpy.argmin([eigenvalue/numpy.sum(eigenvalues[i:]) for i, eigenvalue in enumerate(eigenvalues)]) - 1\n",
    "    return num_eigenvectors"
   ]
  },
  {
   "cell_type": "markdown",
   "metadata": {},
   "source": [
    "5. Compute the matrix $Z$ of projections of each of the vector representations for the standard mixtures onto the orthogonal eigenvectors, $Z = V^TF$."
   ]
  },
  {
   "cell_type": "markdown",
   "metadata": {},
   "source": [
    "6. Arrange the concentrations of each one of the $n$ components for each of the $m$ standard mixtures in a $n$ by $m$ matrix $C$. Then, compute the proportionality matrix $P = CZ^T(ZZ^T)^{-1}$. Finally, compute the calibration matrix $M = PV^{T}$. The concentrations of each component in an unknown mixture $c_u$ can be obtained by the following relationship after taking the Fourier transform of the mixture's absorbance spectrum $f_u$. \n",
    "<center>$c_u = Mf_u$</center>"
   ]
  },
  {
   "cell_type": "markdown",
   "metadata": {},
   "source": [
    "7. Compute the expected error in the concentrations of the unknown samples, known as the standard error of estimation ($SEE$), by calculating the concentrations of the standard mixtures from their Fourier-transformed spectra using the calibration matrix $M$.\n",
    "    <center><br/>$SEE = \\frac{\\|C_{actual} - C_{estimated} \\|_{F}}{\\sqrt{n(m-k)}} = \\sqrt{\\frac{Tr(C^TMF)}{n(m-k)}}$,</center><br/>\n",
    "    where $n$ is the number of absorbing components, $m$ the number of standard mixtures and $k$ the number of eigenvectors used.\n"
   ]
  },
  {
   "cell_type": "code",
   "execution_count": 11,
   "metadata": {},
   "outputs": [],
   "source": [
    "def compSEE(concentration_matrix, calibration_matrix, ft_spectra, num_eigenvectors):\n",
    "    '''Computes the standard error of estimation\n",
    "\n",
    "    Parameters\n",
    "    ----------\n",
    "    concentration_matrix : 2D-array of floats\n",
    "        Concentrations of each one of the n components for each of the m standard mixtures arranged in a n by m matrix.\n",
    "    calibration_matrix : 2D-array of floats\n",
    "        Matrix obtained from the calibration experiments that relates the Fourier transform of a mixture's abosrbance \n",
    "        spectrum to the concentrations of each component in an unknown mixture.\n",
    "    ft_spectra : 2D-array of floats\n",
    "        Obtained by arranging the subset of t Fourier terms computed from the absorption spectrum\n",
    "        of each of the m standard mixtures as a t by m matrix.\n",
    "    num_eigenvectors : int\n",
    "        Number of eigenvectors used.\n",
    "    Returns\n",
    "    -------\n",
    "    float\n",
    "       Standard error of estimation (SEE)\n",
    "    '''\n",
    "    C = numpy.array(concentration_matrix)\n",
    "    M = numpy.array(calibration_matrix)\n",
    "    F = numpy.array(ft_spectra)\n",
    "    n, m = C.shape\n",
    "    try:\n",
    "        SEE = math.sqrt(numpy.trace(numpy.matmul(C.T,numpy.matmul(M,F))).real/(n*(m-num_eigenvectors)))\n",
    "        return SEE\n",
    "    except ZeroDivisionError:\n",
    "        print('''\n",
    "        The number of eigenvectors is coincidentally the same as the number of standard mixtures.\n",
    "        This causes a division by zero in the computation.\n",
    "        SEE cannot be computed in this case.\n",
    "        ''')\n",
    "        return math.nan"
   ]
  },
  {
   "cell_type": "markdown",
   "metadata": {},
   "source": [
    "# References\n",
    "1. Skoog, D. A., Holler, F. J. and Crouch, S. R., Principles of Instrumental Analysis, 6th Edition, Thomson Brooks/Cole, Belmont, CA, 2007.\n",
    "2. Weismüller, J. A., & Chanady, A. (1992). Quantitative multicomponent analysis of complex mixtures by means of Full Spectrum quantitation and principal component analysis. TrAC Trends in Analytical Chemistry, 11(3), 86-90.\n",
    "3. Brown, C. W., Bump, E. A., & Obremski, R. J. (1986). Accounting for impurities in spectroscopic multicomponent analysis using Fourier vectors. Applied spectroscopy, 40(7), 1023-1031.\n",
    "4. Brown, C. W., Obremski, R. J., & Anderson, P. (1986). Infrared quantitative analysis in the Fourier domain: processing vector representations. Applied spectroscopy, 40(6), 734-742.\n",
    "5. Donahue, S. M., Brown, C. W., & Obremski, R. J. (1988). Multicomponent analysis using Fourier transform infrared and UV spectra. Applied spectroscopy, 42(2), 353-359."
   ]
  }
 ],
 "metadata": {
  "kernelspec": {
   "display_name": "Python 3",
   "language": "python",
   "name": "python3"
  },
  "language_info": {
   "codemirror_mode": {
    "name": "ipython",
    "version": 3
   },
   "file_extension": ".py",
   "mimetype": "text/x-python",
   "name": "python",
   "nbconvert_exporter": "python",
   "pygments_lexer": "ipython3",
   "version": "3.8.5"
  }
 },
 "nbformat": 4,
 "nbformat_minor": 4
}
