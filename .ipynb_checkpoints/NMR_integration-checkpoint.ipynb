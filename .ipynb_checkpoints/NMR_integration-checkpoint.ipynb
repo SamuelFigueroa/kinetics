{
 "cells": [
  {
   "cell_type": "markdown",
   "metadata": {},
   "source": [
    "# Processing kinetic NMR integration data\n",
    "\n",
    "0. Imports"
   ]
  },
  {
   "cell_type": "code",
   "execution_count": 1,
   "metadata": {},
   "outputs": [],
   "source": [
    "import csv"
   ]
  },
  {
   "cell_type": "markdown",
   "metadata": {},
   "source": [
    "1. The following is an example of the NMR integration data csv file. The second column of the csv file is the time measurement in seconds. The third column is the NMR integral value."
   ]
  },
  {
   "cell_type": "markdown",
   "metadata": {},
   "source": [
    ",,,,,,\n",
    "\n",
    "#,X(I),Y(X),Y'(X),,,\n",
    "\n",
    "Model,ARR_DATA(I),\"Integral(10.013,9.493)\",,,,\n",
    "\n",
    "1,0.000,-457.812,0.000,,,\n",
    "\n",
    "2,225.000,275.346,0.000,,,\n",
    "\n",
    "3,484.000,392.835,0.000,,,\n",
    "\n",
    "4,663.000,567.457,0.000,,,\n",
    "\n",
    "5,842.000,768.767,0.000,,,\n",
    "\n",
    "6,1021.000,1119.643,0.000,,,\n",
    "\n",
    "7,1201.000,1269.151,0.000,,,\n",
    "\n",
    "8,1380.000,1562.304,0.000,,,\n",
    "\n",
    "9,1559.000,1799.376,0.000,,,\n",
    "\n",
    "10,1738.000,2261.593,0.000,,,\n",
    "\n",
    "11,1917.000,2504.195,0.000,,,"
   ]
  },
  {
   "cell_type": "code",
   "execution_count": 1,
   "metadata": {},
   "outputs": [],
   "source": [
    "def readNMRIntegrationFromFile(path_to_file):\n",
    "    '''Extracts the NMR integration time-series data from the csv file\n",
    "\n",
    "    Parameters\n",
    "    ----------\n",
    "    path_to_file : string\n",
    "        Path used to locate the NMR integration csv file.\n",
    "\n",
    "    Returns\n",
    "    -------\n",
    "    array of tuples\n",
    "       NMR integration time-series data\n",
    "       The first element of each tuple is the time point in seconds. \n",
    "       The second element is the NMR integral value.\n",
    "    '''\n",
    "    nmr_integrals = []\n",
    "    skip_number_lines = 8\n",
    "    with open(path_to_file, newline='') as f:\n",
    "        reader = csv.reader(f)\n",
    "        for row in reader:\n",
    "            if (reader.line_num > skip_number_lines) and (reader.line_num % 2 == 1):\n",
    "                nmr_integrals.append((float(row[1]), float(row[2])))\n",
    "    return nmr_integrals"
   ]
  },
  {
   "cell_type": "code",
   "execution_count": null,
   "metadata": {},
   "outputs": [],
   "source": [
    "def readNMRSpectraFromFile(path_to_file):\n",
    "    chemical_shifts = []\n",
    "    nmr_spectra = []\n",
    "    skip_number_lines = 1\n",
    "    with open(path_to_file, newline='') as f:\n",
    "        reader = csv.reader(f, delimiter='\\t')\n",
    "        for row in reader:\n",
    "            if (reader.line_num > skip_number_lines):\n",
    "                chemical_shifts.append(float(row[0]))\n",
    "                nmr_spectra.append([float(intensity) for intensity in row[1:-1]])\n",
    "    return chemical_shifts, nmr_spectra"
   ]
  },
  {
   "cell_type": "code",
   "execution_count": null,
   "metadata": {},
   "outputs": [],
   "source": []
  }
 ],
 "metadata": {
  "kernelspec": {
   "display_name": "Python 3",
   "language": "python",
   "name": "python3"
  },
  "language_info": {
   "codemirror_mode": {
    "name": "ipython",
    "version": 3
   },
   "file_extension": ".py",
   "mimetype": "text/x-python",
   "name": "python",
   "nbconvert_exporter": "python",
   "pygments_lexer": "ipython3",
   "version": "3.8.5"
  }
 },
 "nbformat": 4,
 "nbformat_minor": 4
}
